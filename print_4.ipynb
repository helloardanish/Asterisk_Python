{
 "cells": [
  {
   "cell_type": "code",
   "execution_count": 1,
   "metadata": {
    "collapsed": false
   },
   "outputs": [
    {
     "name": "stdout",
     "output_type": "stream",
     "text": [
      "5\n",
      "*   *\n",
      "*   *\n",
      "*****\n",
      "    *\n",
      "    *\n"
     ]
    }
   ],
   "source": [
    "#for any number\n",
    "def print_4(n):\n",
    "    if n%2==0:\n",
    "        n=n+1\n",
    "    for i in range(n):\n",
    "        if i==n//2:\n",
    "            for j in range(n):\n",
    "                print('*',end='')\n",
    "            print()\n",
    "        elif i>n//2:\n",
    "            for i in range(n-1):\n",
    "                print(' ',end='')\n",
    "            print('*')\n",
    "        else:\n",
    "            print('*',end='')\n",
    "            for i in range(n-2):\n",
    "                print(' ',end='')\n",
    "            print('*')\n",
    "num = int(input())\n",
    "print_4(num)"
   ]
  },
  {
   "cell_type": "code",
   "execution_count": 3,
   "metadata": {
    "collapsed": false
   },
   "outputs": [
    {
     "name": "stdout",
     "output_type": "stream",
     "text": [
      "*     *\n",
      "*     *\n",
      "*     *\n",
      "*******\n",
      "      *\n",
      "      *\n",
      "      *\n"
     ]
    }
   ],
   "source": [
    "print_4(7)"
   ]
  },
  {
   "cell_type": "code",
   "execution_count": 5,
   "metadata": {
    "collapsed": false
   },
   "outputs": [
    {
     "name": "stdout",
     "output_type": "stream",
     "text": [
      "*               *\n",
      "*               *\n",
      "*               *\n",
      "*               *\n",
      "*               *\n",
      "*               *\n",
      "*               *\n",
      "*               *\n",
      "*****************\n",
      "                *\n",
      "                *\n",
      "                *\n",
      "                *\n",
      "                *\n",
      "                *\n",
      "                *\n",
      "                *\n"
     ]
    }
   ],
   "source": [
    "print_4(16)"
   ]
  },
  {
   "cell_type": "code",
   "execution_count": 6,
   "metadata": {
    "collapsed": false
   },
   "outputs": [
    {
     "name": "stdout",
     "output_type": "stream",
     "text": [
      "*                     *\n",
      "*                     *\n",
      "*                     *\n",
      "*                     *\n",
      "*                     *\n",
      "*                     *\n",
      "*                     *\n",
      "*                     *\n",
      "*                     *\n",
      "*                     *\n",
      "*                     *\n",
      "***********************\n",
      "                      *\n",
      "                      *\n",
      "                      *\n",
      "                      *\n",
      "                      *\n",
      "                      *\n",
      "                      *\n",
      "                      *\n",
      "                      *\n",
      "                      *\n",
      "                      *\n"
     ]
    }
   ],
   "source": [
    "print_4(23)"
   ]
  },
  {
   "cell_type": "code",
   "execution_count": 7,
   "metadata": {
    "collapsed": false
   },
   "outputs": [
    {
     "name": "stdout",
     "output_type": "stream",
     "text": [
      "*                                 *\n",
      "*                                 *\n",
      "*                                 *\n",
      "*                                 *\n",
      "*                                 *\n",
      "*                                 *\n",
      "*                                 *\n",
      "*                                 *\n",
      "*                                 *\n",
      "*                                 *\n",
      "*                                 *\n",
      "*                                 *\n",
      "*                                 *\n",
      "*                                 *\n",
      "*                                 *\n",
      "*                                 *\n",
      "*                                 *\n",
      "***********************************\n",
      "                                  *\n",
      "                                  *\n",
      "                                  *\n",
      "                                  *\n",
      "                                  *\n",
      "                                  *\n",
      "                                  *\n",
      "                                  *\n",
      "                                  *\n",
      "                                  *\n",
      "                                  *\n",
      "                                  *\n",
      "                                  *\n",
      "                                  *\n",
      "                                  *\n",
      "                                  *\n",
      "                                  *\n"
     ]
    }
   ],
   "source": [
    "print_4(35)"
   ]
  }
 ],
 "metadata": {
  "kernelspec": {
   "display_name": "Python 3",
   "language": "python",
   "name": "python3"
  },
  "language_info": {
   "codemirror_mode": {
    "name": "ipython",
    "version": 3
   },
   "file_extension": ".py",
   "mimetype": "text/x-python",
   "name": "python",
   "nbconvert_exporter": "python",
   "pygments_lexer": "ipython3",
   "version": "3.5.2"
  }
 },
 "nbformat": 4,
 "nbformat_minor": 2
}
