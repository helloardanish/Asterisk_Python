{
 "cells": [
  {
   "cell_type": "code",
   "execution_count": 21,
   "metadata": {
    "collapsed": false
   },
   "outputs": [
    {
     "name": "stdout",
     "output_type": "stream",
     "text": [
      "7\n",
      "* * * \n",
      "  *\n",
      "  *\n",
      "  *\n",
      "  *\n",
      "  *\n",
      "* * * \n"
     ]
    }
   ],
   "source": [
    "def print_I(n):\n",
    "    for i in range(n):\n",
    "        if i==0 or i==n-1:\n",
    "            for i in range(3):\n",
    "                print('* ',end='')\n",
    "            print()\n",
    "        else:\n",
    "            for j in range(2):\n",
    "                print(' ',end='')\n",
    "            print('*')\n",
    "num = int(input())\n",
    "print_I(num)"
   ]
  },
  {
   "cell_type": "code",
   "execution_count": 25,
   "metadata": {
    "collapsed": false
   },
   "outputs": [
    {
     "name": "stdout",
     "output_type": "stream",
     "text": [
      "10\n",
      "* * * \n",
      "  *\n",
      "  *\n",
      "  *\n",
      "  *\n",
      "  *\n",
      "  *\n",
      "  *\n",
      "  *\n",
      "* * * \n"
     ]
    }
   ],
   "source": [
    "def print_I2(n):\n",
    "    for i in range(n):\n",
    "        if i==0 or i==n-1:\n",
    "            for i in range(3):\n",
    "                print('* ',end='')\n",
    "            print()\n",
    "        else:\n",
    "            print('  *')\n",
    "num = int(input())\n",
    "print_I2(num)"
   ]
  },
  {
   "cell_type": "code",
   "execution_count": 26,
   "metadata": {
    "collapsed": false
   },
   "outputs": [
    {
     "name": "stdout",
     "output_type": "stream",
     "text": [
      "* * * \n",
      "  *\n",
      "  *\n",
      "  *\n",
      "  *\n",
      "  *\n",
      "  *\n",
      "  *\n",
      "  *\n",
      "  *\n",
      "  *\n",
      "* * * \n"
     ]
    }
   ],
   "source": [
    "print_I2(12)"
   ]
  },
  {
   "cell_type": "code",
   "execution_count": 27,
   "metadata": {
    "collapsed": false
   },
   "outputs": [
    {
     "name": "stdout",
     "output_type": "stream",
     "text": [
      "* * * \n",
      "  *\n",
      "  *\n",
      "  *\n",
      "  *\n",
      "  *\n",
      "* * * \n"
     ]
    }
   ],
   "source": [
    "print_I2(7)"
   ]
  },
  {
   "cell_type": "code",
   "execution_count": null,
   "metadata": {
    "collapsed": true
   },
   "outputs": [],
   "source": []
  }
 ],
 "metadata": {
  "kernelspec": {
   "display_name": "Python 3",
   "language": "python",
   "name": "python3"
  },
  "language_info": {
   "codemirror_mode": {
    "name": "ipython",
    "version": 3
   },
   "file_extension": ".py",
   "mimetype": "text/x-python",
   "name": "python",
   "nbconvert_exporter": "python",
   "pygments_lexer": "ipython3",
   "version": "3.5.2"
  }
 },
 "nbformat": 4,
 "nbformat_minor": 2
}
