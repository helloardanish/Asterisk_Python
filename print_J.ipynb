{
 "cells": [
  {
   "cell_type": "code",
   "execution_count": 19,
   "metadata": {
    "collapsed": false
   },
   "outputs": [
    {
     "name": "stdout",
     "output_type": "stream",
     "text": [
      "5\n",
      " ***\n",
      "  *\n",
      "  *\n",
      "* *\n",
      "***\n"
     ]
    }
   ],
   "source": [
    "def print_J(n):\n",
    "    if n%2==0:\n",
    "        n=n+1\n",
    "    for i in range(n):\n",
    "        if i==0:\n",
    "            for j in range(n//4):\n",
    "                print(' ',end='')\n",
    "            for j in range(n//2+1):\n",
    "                print('*',end='')\n",
    "            print()\n",
    "        elif i==n-1:\n",
    "            for j in range(n//2+1):\n",
    "                print('*',end='')\n",
    "            print()\n",
    "        elif i>n//2:\n",
    "            print('*',end='')\n",
    "            for j in range((n//2-1)):\n",
    "                print(' ',end='')\n",
    "            print('*')\n",
    "        else:\n",
    "            for i in range(n//2):\n",
    "                print(' ',end='')\n",
    "            print('*')\n",
    "num = int(input())\n",
    "print_J(num)"
   ]
  },
  {
   "cell_type": "code",
   "execution_count": 20,
   "metadata": {
    "collapsed": false
   },
   "outputs": [
    {
     "name": "stdout",
     "output_type": "stream",
     "text": [
      "  *****\n",
      "    *\n",
      "    *\n",
      "    *\n",
      "    *\n",
      "*   *\n",
      "*   *\n",
      "*   *\n",
      "*****\n"
     ]
    }
   ],
   "source": [
    "print_J(9)"
   ]
  },
  {
   "cell_type": "code",
   "execution_count": 22,
   "metadata": {
    "collapsed": false
   },
   "outputs": [
    {
     "name": "stdout",
     "output_type": "stream",
     "text": [
      "     ************\n",
      "           *\n",
      "           *\n",
      "           *\n",
      "           *\n",
      "           *\n",
      "           *\n",
      "           *\n",
      "           *\n",
      "           *\n",
      "           *\n",
      "           *\n",
      "*          *\n",
      "*          *\n",
      "*          *\n",
      "*          *\n",
      "*          *\n",
      "*          *\n",
      "*          *\n",
      "*          *\n",
      "*          *\n",
      "*          *\n",
      "************\n"
     ]
    }
   ],
   "source": [
    "print_J(22)"
   ]
  },
  {
   "cell_type": "code",
   "execution_count": 23,
   "metadata": {
    "collapsed": false
   },
   "outputs": [
    {
     "name": "stdout",
     "output_type": "stream",
     "text": [
      "        ******************\n",
      "                 *\n",
      "                 *\n",
      "                 *\n",
      "                 *\n",
      "                 *\n",
      "                 *\n",
      "                 *\n",
      "                 *\n",
      "                 *\n",
      "                 *\n",
      "                 *\n",
      "                 *\n",
      "                 *\n",
      "                 *\n",
      "                 *\n",
      "                 *\n",
      "                 *\n",
      "*                *\n",
      "*                *\n",
      "*                *\n",
      "*                *\n",
      "*                *\n",
      "*                *\n",
      "*                *\n",
      "*                *\n",
      "*                *\n",
      "*                *\n",
      "*                *\n",
      "*                *\n",
      "*                *\n",
      "*                *\n",
      "*                *\n",
      "*                *\n",
      "******************\n"
     ]
    }
   ],
   "source": [
    "print_J(35)"
   ]
  },
  {
   "cell_type": "code",
   "execution_count": 24,
   "metadata": {
    "collapsed": false
   },
   "outputs": [
    {
     "name": "stdout",
     "output_type": "stream",
     "text": [
      "                *********************************\n",
      "                                *\n",
      "                                *\n",
      "                                *\n",
      "                                *\n",
      "                                *\n",
      "                                *\n",
      "                                *\n",
      "                                *\n",
      "                                *\n",
      "                                *\n",
      "                                *\n",
      "                                *\n",
      "                                *\n",
      "                                *\n",
      "                                *\n",
      "                                *\n",
      "                                *\n",
      "                                *\n",
      "                                *\n",
      "                                *\n",
      "                                *\n",
      "                                *\n",
      "                                *\n",
      "                                *\n",
      "                                *\n",
      "                                *\n",
      "                                *\n",
      "                                *\n",
      "                                *\n",
      "                                *\n",
      "                                *\n",
      "                                *\n",
      "*                               *\n",
      "*                               *\n",
      "*                               *\n",
      "*                               *\n",
      "*                               *\n",
      "*                               *\n",
      "*                               *\n",
      "*                               *\n",
      "*                               *\n",
      "*                               *\n",
      "*                               *\n",
      "*                               *\n",
      "*                               *\n",
      "*                               *\n",
      "*                               *\n",
      "*                               *\n",
      "*                               *\n",
      "*                               *\n",
      "*                               *\n",
      "*                               *\n",
      "*                               *\n",
      "*                               *\n",
      "*                               *\n",
      "*                               *\n",
      "*                               *\n",
      "*                               *\n",
      "*                               *\n",
      "*                               *\n",
      "*                               *\n",
      "*                               *\n",
      "*                               *\n",
      "*********************************\n"
     ]
    }
   ],
   "source": [
    "print_J(65)"
   ]
  }
 ],
 "metadata": {
  "kernelspec": {
   "display_name": "Python 3",
   "language": "python",
   "name": "python3"
  },
  "language_info": {
   "codemirror_mode": {
    "name": "ipython",
    "version": 3
   },
   "file_extension": ".py",
   "mimetype": "text/x-python",
   "name": "python",
   "nbconvert_exporter": "python",
   "pygments_lexer": "ipython3",
   "version": "3.5.2"
  }
 },
 "nbformat": 4,
 "nbformat_minor": 2
}
