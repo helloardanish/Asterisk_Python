{
 "cells": [
  {
   "cell_type": "code",
   "execution_count": 5,
   "metadata": {
    "collapsed": false
   },
   "outputs": [
    {
     "name": "stdout",
     "output_type": "stream",
     "text": [
      "5\n",
      "*****\n",
      "*\n",
      "*****\n",
      "    *\n",
      "*****\n"
     ]
    }
   ],
   "source": [
    "def print_S(n):\n",
    "    if n%2==0:\n",
    "        n=n+1\n",
    "    for i in range(n):\n",
    "        if i==0 or i==n//2 or i==n-1:\n",
    "            for i in range(n):\n",
    "                print('*',end='')\n",
    "            print()\n",
    "        elif i<n//2:\n",
    "            print('*')\n",
    "        else:\n",
    "            for i in range(n-1):\n",
    "                print(' ',end='')\n",
    "            print('*')\n",
    "num = int(input())\n",
    "print_S(num)"
   ]
  },
  {
   "cell_type": "code",
   "execution_count": 6,
   "metadata": {
    "collapsed": false
   },
   "outputs": [
    {
     "name": "stdout",
     "output_type": "stream",
     "text": [
      "*******\n",
      "*\n",
      "*\n",
      "*******\n",
      "      *\n",
      "      *\n",
      "*******\n"
     ]
    }
   ],
   "source": [
    "print_S(7)"
   ]
  },
  {
   "cell_type": "code",
   "execution_count": 7,
   "metadata": {
    "collapsed": false
   },
   "outputs": [
    {
     "name": "stdout",
     "output_type": "stream",
     "text": [
      "***************\n",
      "*\n",
      "*\n",
      "*\n",
      "*\n",
      "*\n",
      "*\n",
      "***************\n",
      "              *\n",
      "              *\n",
      "              *\n",
      "              *\n",
      "              *\n",
      "              *\n",
      "***************\n"
     ]
    }
   ],
   "source": [
    "print_S(14)"
   ]
  },
  {
   "cell_type": "code",
   "execution_count": 8,
   "metadata": {
    "collapsed": false
   },
   "outputs": [
    {
     "name": "stdout",
     "output_type": "stream",
     "text": [
      "*************************\n",
      "*\n",
      "*\n",
      "*\n",
      "*\n",
      "*\n",
      "*\n",
      "*\n",
      "*\n",
      "*\n",
      "*\n",
      "*\n",
      "*************************\n",
      "                        *\n",
      "                        *\n",
      "                        *\n",
      "                        *\n",
      "                        *\n",
      "                        *\n",
      "                        *\n",
      "                        *\n",
      "                        *\n",
      "                        *\n",
      "                        *\n",
      "*************************\n"
     ]
    }
   ],
   "source": [
    "print_S(25)"
   ]
  },
  {
   "cell_type": "code",
   "execution_count": 9,
   "metadata": {
    "collapsed": false
   },
   "outputs": [
    {
     "name": "stdout",
     "output_type": "stream",
     "text": [
      "*********************************\n",
      "*\n",
      "*\n",
      "*\n",
      "*\n",
      "*\n",
      "*\n",
      "*\n",
      "*\n",
      "*\n",
      "*\n",
      "*\n",
      "*\n",
      "*\n",
      "*\n",
      "*\n",
      "*********************************\n",
      "                                *\n",
      "                                *\n",
      "                                *\n",
      "                                *\n",
      "                                *\n",
      "                                *\n",
      "                                *\n",
      "                                *\n",
      "                                *\n",
      "                                *\n",
      "                                *\n",
      "                                *\n",
      "                                *\n",
      "                                *\n",
      "                                *\n",
      "*********************************\n"
     ]
    }
   ],
   "source": [
    "print_S(33)"
   ]
  }
 ],
 "metadata": {
  "kernelspec": {
   "display_name": "Python 3",
   "language": "python",
   "name": "python3"
  },
  "language_info": {
   "codemirror_mode": {
    "name": "ipython",
    "version": 3
   },
   "file_extension": ".py",
   "mimetype": "text/x-python",
   "name": "python",
   "nbconvert_exporter": "python",
   "pygments_lexer": "ipython3",
   "version": "3.5.2"
  }
 },
 "nbformat": 4,
 "nbformat_minor": 2
}
