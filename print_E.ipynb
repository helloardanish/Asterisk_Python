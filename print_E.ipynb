{
 "cells": [
  {
   "cell_type": "code",
   "execution_count": 13,
   "metadata": {
    "collapsed": false
   },
   "outputs": [
    {
     "name": "stdout",
     "output_type": "stream",
     "text": [
      "12\n",
      "* * * * * * * * * * * \n",
      "*\n",
      "*\n",
      "*\n",
      "*\n",
      "* * * * * * * * * * * \n",
      "*\n",
      "*\n",
      "*\n",
      "*\n",
      "* * * * * * * * * * * \n"
     ]
    }
   ],
   "source": [
    "def print_E(n):\n",
    "    if n%2==0:\n",
    "        n=n-1\n",
    "    for i in range(n):\n",
    "        if i==0 or i==n//2 or i==n-1:\n",
    "            for i in range(n):\n",
    "                print('* ',end='')\n",
    "            print()\n",
    "        else:\n",
    "            print('*')\n",
    "num = int(input())\n",
    "print_E(num)"
   ]
  },
  {
   "cell_type": "code",
   "execution_count": 14,
   "metadata": {
    "collapsed": false
   },
   "outputs": [
    {
     "name": "stdout",
     "output_type": "stream",
     "text": [
      "* * * * * * * * * * * \n",
      "*\n",
      "*\n",
      "*\n",
      "*\n",
      "* * * * * * * * * * * \n",
      "*\n",
      "*\n",
      "*\n",
      "*\n",
      "* * * * * * * * * * * \n"
     ]
    }
   ],
   "source": [
    "print_E(11)"
   ]
  },
  {
   "cell_type": "code",
   "execution_count": 15,
   "metadata": {
    "collapsed": false
   },
   "outputs": [
    {
     "name": "stdout",
     "output_type": "stream",
     "text": [
      "* * * * * * * \n",
      "*\n",
      "*\n",
      "* * * * * * * \n",
      "*\n",
      "*\n",
      "* * * * * * * \n"
     ]
    }
   ],
   "source": [
    "print_E(8)"
   ]
  },
  {
   "cell_type": "code",
   "execution_count": 17,
   "metadata": {
    "collapsed": false
   },
   "outputs": [
    {
     "name": "stdout",
     "output_type": "stream",
     "text": [
      "* * * * * * * \n",
      "*\n",
      "*\n",
      "* * * * * * * \n",
      "*\n",
      "*\n",
      "* * * * * * * \n"
     ]
    }
   ],
   "source": [
    "print_E(7)"
   ]
  },
  {
   "cell_type": "code",
   "execution_count": 19,
   "metadata": {
    "collapsed": false
   },
   "outputs": [
    {
     "name": "stdout",
     "output_type": "stream",
     "text": [
      "* * * * * * * * * * * * * * * \n",
      "*\n",
      "*\n",
      "*\n",
      "*\n",
      "*\n",
      "*\n",
      "* * * * * * * * * * * * * * * \n",
      "*\n",
      "*\n",
      "*\n",
      "*\n",
      "*\n",
      "*\n",
      "* * * * * * * * * * * * * * * \n"
     ]
    }
   ],
   "source": [
    "print_E(15)"
   ]
  },
  {
   "cell_type": "code",
   "execution_count": null,
   "metadata": {
    "collapsed": true
   },
   "outputs": [],
   "source": []
  }
 ],
 "metadata": {
  "kernelspec": {
   "display_name": "Python 3",
   "language": "python",
   "name": "python3"
  },
  "language_info": {
   "codemirror_mode": {
    "name": "ipython",
    "version": 3
   },
   "file_extension": ".py",
   "mimetype": "text/x-python",
   "name": "python",
   "nbconvert_exporter": "python",
   "pygments_lexer": "ipython3",
   "version": "3.5.2"
  }
 },
 "nbformat": 4,
 "nbformat_minor": 2
}
