{
 "cells": [
  {
   "cell_type": "code",
   "execution_count": 29,
   "metadata": {
    "collapsed": false
   },
   "outputs": [
    {
     "name": "stdout",
     "output_type": "stream",
     "text": [
      "5\n",
      "*       *\n",
      "* *     *\n",
      "*   *   *\n",
      "*     * *\n",
      "*       *\n"
     ]
    }
   ],
   "source": [
    "def print_N(n):\n",
    "    if n%2==0:\n",
    "        n=n+1\n",
    "    for i in range(n):\n",
    "        #for first and last\n",
    "        if i==0 or i==n-1:\n",
    "            print('*',end='')\n",
    "            for j in range(n*2-3):\n",
    "                print(' ',end='')\n",
    "            print('*')\n",
    "        else:\n",
    "            print('*',end='')\n",
    "            for j in range(2*i-1):\n",
    "                print(' ',end='')\n",
    "            print('*',end='')\n",
    "            for j in range((n-i-2)*2+1):\n",
    "                print(' ',end='')\n",
    "            print('*')\n",
    "num = int(input())\n",
    "print_N(num)"
   ]
  },
  {
   "cell_type": "code",
   "execution_count": 30,
   "metadata": {
    "collapsed": false
   },
   "outputs": [
    {
     "name": "stdout",
     "output_type": "stream",
     "text": [
      "*           *\n",
      "* *         *\n",
      "*   *       *\n",
      "*     *     *\n",
      "*       *   *\n",
      "*         * *\n",
      "*           *\n"
     ]
    }
   ],
   "source": [
    "print_N(7)"
   ]
  },
  {
   "cell_type": "code",
   "execution_count": 31,
   "metadata": {
    "collapsed": false
   },
   "outputs": [
    {
     "name": "stdout",
     "output_type": "stream",
     "text": [
      "*                       *\n",
      "* *                     *\n",
      "*   *                   *\n",
      "*     *                 *\n",
      "*       *               *\n",
      "*         *             *\n",
      "*           *           *\n",
      "*             *         *\n",
      "*               *       *\n",
      "*                 *     *\n",
      "*                   *   *\n",
      "*                     * *\n",
      "*                       *\n"
     ]
    }
   ],
   "source": [
    "print_N(13)"
   ]
  },
  {
   "cell_type": "code",
   "execution_count": 32,
   "metadata": {
    "collapsed": false
   },
   "outputs": [
    {
     "name": "stdout",
     "output_type": "stream",
     "text": [
      "*                                                           *\n",
      "* *                                                         *\n",
      "*   *                                                       *\n",
      "*     *                                                     *\n",
      "*       *                                                   *\n",
      "*         *                                                 *\n",
      "*           *                                               *\n",
      "*             *                                             *\n",
      "*               *                                           *\n",
      "*                 *                                         *\n",
      "*                   *                                       *\n",
      "*                     *                                     *\n",
      "*                       *                                   *\n",
      "*                         *                                 *\n",
      "*                           *                               *\n",
      "*                             *                             *\n",
      "*                               *                           *\n",
      "*                                 *                         *\n",
      "*                                   *                       *\n",
      "*                                     *                     *\n",
      "*                                       *                   *\n",
      "*                                         *                 *\n",
      "*                                           *               *\n",
      "*                                             *             *\n",
      "*                                               *           *\n",
      "*                                                 *         *\n",
      "*                                                   *       *\n",
      "*                                                     *     *\n",
      "*                                                       *   *\n",
      "*                                                         * *\n",
      "*                                                           *\n"
     ]
    }
   ],
   "source": [
    "print_N(31)"
   ]
  },
  {
   "cell_type": "code",
   "execution_count": null,
   "metadata": {
    "collapsed": true
   },
   "outputs": [],
   "source": []
  }
 ],
 "metadata": {
  "kernelspec": {
   "display_name": "Python 3",
   "language": "python",
   "name": "python3"
  },
  "language_info": {
   "codemirror_mode": {
    "name": "ipython",
    "version": 3
   },
   "file_extension": ".py",
   "mimetype": "text/x-python",
   "name": "python",
   "nbconvert_exporter": "python",
   "pygments_lexer": "ipython3",
   "version": "3.5.2"
  }
 },
 "nbformat": 4,
 "nbformat_minor": 2
}
