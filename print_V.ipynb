{
 "cells": [
  {
   "cell_type": "code",
   "execution_count": 22,
   "metadata": {
    "collapsed": false
   },
   "outputs": [
    {
     "name": "stdout",
     "output_type": "stream",
     "text": [
      "3\n",
      "*   *\n",
      " * *\n",
      "  *\n"
     ]
    }
   ],
   "source": [
    "def print_V(n):\n",
    "    for i in range(n):\n",
    "        if i==n-1:\n",
    "            for j in range(n-1):\n",
    "                print(' ',end='')\n",
    "            print('*')\n",
    "        else:\n",
    "            for j in range(i):\n",
    "                print(' ',end='')\n",
    "            print('*',end='')\n",
    "            for j in range((n-i-2)*2+1):\n",
    "                print(' ',end='')\n",
    "            print('*')\n",
    "num = int(input())\n",
    "print_V(num)"
   ]
  },
  {
   "cell_type": "code",
   "execution_count": 24,
   "metadata": {
    "collapsed": false
   },
   "outputs": [
    {
     "name": "stdout",
     "output_type": "stream",
     "text": [
      "*     *\n",
      " *   *\n",
      "  * *\n",
      "   *\n"
     ]
    }
   ],
   "source": [
    "print_V(4)"
   ]
  },
  {
   "cell_type": "code",
   "execution_count": 25,
   "metadata": {
    "collapsed": false
   },
   "outputs": [
    {
     "name": "stdout",
     "output_type": "stream",
     "text": [
      "*             *\n",
      " *           *\n",
      "  *         *\n",
      "   *       *\n",
      "    *     *\n",
      "     *   *\n",
      "      * *\n",
      "       *\n"
     ]
    }
   ],
   "source": [
    "print_V(8)"
   ]
  },
  {
   "cell_type": "code",
   "execution_count": 26,
   "metadata": {
    "collapsed": false
   },
   "outputs": [
    {
     "name": "stdout",
     "output_type": "stream",
     "text": [
      "*                           *\n",
      " *                         *\n",
      "  *                       *\n",
      "   *                     *\n",
      "    *                   *\n",
      "     *                 *\n",
      "      *               *\n",
      "       *             *\n",
      "        *           *\n",
      "         *         *\n",
      "          *       *\n",
      "           *     *\n",
      "            *   *\n",
      "             * *\n",
      "              *\n"
     ]
    }
   ],
   "source": [
    "print_V(15)"
   ]
  },
  {
   "cell_type": "code",
   "execution_count": 27,
   "metadata": {
    "collapsed": false
   },
   "outputs": [
    {
     "name": "stdout",
     "output_type": "stream",
     "text": [
      "*                                               *\n",
      " *                                             *\n",
      "  *                                           *\n",
      "   *                                         *\n",
      "    *                                       *\n",
      "     *                                     *\n",
      "      *                                   *\n",
      "       *                                 *\n",
      "        *                               *\n",
      "         *                             *\n",
      "          *                           *\n",
      "           *                         *\n",
      "            *                       *\n",
      "             *                     *\n",
      "              *                   *\n",
      "               *                 *\n",
      "                *               *\n",
      "                 *             *\n",
      "                  *           *\n",
      "                   *         *\n",
      "                    *       *\n",
      "                     *     *\n",
      "                      *   *\n",
      "                       * *\n",
      "                        *\n"
     ]
    }
   ],
   "source": [
    "print_V(25)"
   ]
  }
 ],
 "metadata": {
  "kernelspec": {
   "display_name": "Python 3",
   "language": "python",
   "name": "python3"
  },
  "language_info": {
   "codemirror_mode": {
    "name": "ipython",
    "version": 3
   },
   "file_extension": ".py",
   "mimetype": "text/x-python",
   "name": "python",
   "nbconvert_exporter": "python",
   "pygments_lexer": "ipython3",
   "version": "3.5.2"
  }
 },
 "nbformat": 4,
 "nbformat_minor": 2
}
