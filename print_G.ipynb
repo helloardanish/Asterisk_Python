{
 "cells": [
  {
   "cell_type": "code",
   "execution_count": 15,
   "metadata": {
    "collapsed": false
   },
   "outputs": [
    {
     "name": "stdout",
     "output_type": "stream",
     "text": [
      "5\n",
      "* * * * * \n",
      "*\n",
      "*    * * \n",
      "*       *\n",
      "* * * * * \n"
     ]
    }
   ],
   "source": [
    "def print_G(n):\n",
    "    if n%2==0:\n",
    "        n=n+1\n",
    "    for i in range(n):\n",
    "        if i==0 or i==n-1:\n",
    "            for j in range(n):\n",
    "                print('* ',end='')\n",
    "            print()\n",
    "        elif i==n//2:\n",
    "            print('*',end='')\n",
    "            for j in range(2*i):\n",
    "                print(' ',end='')\n",
    "            for j in range(i):\n",
    "                print('* ',end='')\n",
    "            print()\n",
    "        elif i>n//2:\n",
    "            print('*',end='')\n",
    "            for j in range(2*n-3):\n",
    "                print(' ',end='')\n",
    "            print('*')\n",
    "        else:\n",
    "            print('*')\n",
    "num = int(input())\n",
    "print_G(num)"
   ]
  },
  {
   "cell_type": "code",
   "execution_count": 16,
   "metadata": {
    "collapsed": false
   },
   "outputs": [
    {
     "name": "stdout",
     "output_type": "stream",
     "text": [
      "* * * * * * * \n",
      "*\n",
      "*\n",
      "*      * * * \n",
      "*           *\n",
      "*           *\n",
      "* * * * * * * \n"
     ]
    }
   ],
   "source": [
    "print_G(7)"
   ]
  },
  {
   "cell_type": "code",
   "execution_count": 17,
   "metadata": {
    "collapsed": false
   },
   "outputs": [
    {
     "name": "stdout",
     "output_type": "stream",
     "text": [
      "* * * * * * * * * * * * * \n",
      "*\n",
      "*\n",
      "*\n",
      "*\n",
      "*\n",
      "*            * * * * * * \n",
      "*                       *\n",
      "*                       *\n",
      "*                       *\n",
      "*                       *\n",
      "*                       *\n",
      "* * * * * * * * * * * * * \n"
     ]
    }
   ],
   "source": [
    "print_G(12)"
   ]
  },
  {
   "cell_type": "code",
   "execution_count": 18,
   "metadata": {
    "collapsed": false
   },
   "outputs": [
    {
     "name": "stdout",
     "output_type": "stream",
     "text": [
      "* * * * * * * * * * * * * * * * * * * * * * * \n",
      "*\n",
      "*\n",
      "*\n",
      "*\n",
      "*\n",
      "*\n",
      "*\n",
      "*\n",
      "*\n",
      "*\n",
      "*                      * * * * * * * * * * * \n",
      "*                                           *\n",
      "*                                           *\n",
      "*                                           *\n",
      "*                                           *\n",
      "*                                           *\n",
      "*                                           *\n",
      "*                                           *\n",
      "*                                           *\n",
      "*                                           *\n",
      "*                                           *\n",
      "* * * * * * * * * * * * * * * * * * * * * * * \n"
     ]
    }
   ],
   "source": [
    "print_G(22)"
   ]
  },
  {
   "cell_type": "markdown",
   "metadata": {},
   "source": [
    "## you can add plus one to look different G"
   ]
  },
  {
   "cell_type": "code",
   "execution_count": 19,
   "metadata": {
    "collapsed": false
   },
   "outputs": [
    {
     "name": "stdout",
     "output_type": "stream",
     "text": [
      "7\n",
      "* * * * * * * \n",
      "*\n",
      "*\n",
      "*       * * * \n",
      "*           *\n",
      "*           *\n",
      "* * * * * * * \n"
     ]
    }
   ],
   "source": [
    "def print_G2(n):\n",
    "    if n%2==0:\n",
    "        n=n+1\n",
    "    for i in range(n):\n",
    "        if i==0 or i==n-1:\n",
    "            for j in range(n):\n",
    "                print('* ',end='')\n",
    "            print()\n",
    "        elif i==n//2:\n",
    "            print('*',end='')\n",
    "            for j in range(2*i+1):\n",
    "                print(' ',end='')\n",
    "            for j in range(i):\n",
    "                print('* ',end='')\n",
    "            print()\n",
    "        elif i>n//2:\n",
    "            print('*',end='')\n",
    "            for j in range(2*n-3):\n",
    "                print(' ',end='')\n",
    "            print('*')\n",
    "        else:\n",
    "            print('*')\n",
    "num = int(input())\n",
    "print_G2(num)"
   ]
  },
  {
   "cell_type": "code",
   "execution_count": 20,
   "metadata": {
    "collapsed": false
   },
   "outputs": [
    {
     "name": "stdout",
     "output_type": "stream",
     "text": [
      "* * * * * * * * * * * * * \n",
      "*\n",
      "*\n",
      "*\n",
      "*\n",
      "*\n",
      "*             * * * * * * \n",
      "*                       *\n",
      "*                       *\n",
      "*                       *\n",
      "*                       *\n",
      "*                       *\n",
      "* * * * * * * * * * * * * \n"
     ]
    }
   ],
   "source": [
    "print_G2(12)"
   ]
  },
  {
   "cell_type": "code",
   "execution_count": 21,
   "metadata": {
    "collapsed": false
   },
   "outputs": [
    {
     "name": "stdout",
     "output_type": "stream",
     "text": [
      "* * * * * * * * * * * * * * * * * * * * * * * \n",
      "*\n",
      "*\n",
      "*\n",
      "*\n",
      "*\n",
      "*\n",
      "*\n",
      "*\n",
      "*\n",
      "*\n",
      "*                       * * * * * * * * * * * \n",
      "*                                           *\n",
      "*                                           *\n",
      "*                                           *\n",
      "*                                           *\n",
      "*                                           *\n",
      "*                                           *\n",
      "*                                           *\n",
      "*                                           *\n",
      "*                                           *\n",
      "*                                           *\n",
      "* * * * * * * * * * * * * * * * * * * * * * * \n"
     ]
    }
   ],
   "source": [
    "print_G2(22)"
   ]
  },
  {
   "cell_type": "markdown",
   "metadata": {},
   "source": [
    "### Choice is yours ;)"
   ]
  }
 ],
 "metadata": {
  "kernelspec": {
   "display_name": "Python 3",
   "language": "python",
   "name": "python3"
  },
  "language_info": {
   "codemirror_mode": {
    "name": "ipython",
    "version": 3
   },
   "file_extension": ".py",
   "mimetype": "text/x-python",
   "name": "python",
   "nbconvert_exporter": "python",
   "pygments_lexer": "ipython3",
   "version": "3.5.2"
  }
 },
 "nbformat": 4,
 "nbformat_minor": 2
}
