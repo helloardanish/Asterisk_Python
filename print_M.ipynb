{
 "cells": [
  {
   "cell_type": "code",
   "execution_count": 39,
   "metadata": {
    "collapsed": false
   },
   "outputs": [
    {
     "name": "stdout",
     "output_type": "stream",
     "text": [
      "5\n",
      "*       *\n",
      "* *   * *\n",
      "*   *   *\n",
      "*       *\n",
      "*       *\n"
     ]
    }
   ],
   "source": [
    "def print_M(n):\n",
    "    if n%2==0:\n",
    "        n=n+1\n",
    "    for i in range(n):\n",
    "        if i==0 or i>n//2:\n",
    "            print('*',end='')\n",
    "            for j in range(n+2):\n",
    "                print(' ',end='')\n",
    "            print('*')\n",
    "        elif i==n//2:\n",
    "            print('*',end='')\n",
    "            for j in range(n//2+1):\n",
    "                print(' ',end='')\n",
    "            print('*',end='')\n",
    "            for j in range(n//2+1):\n",
    "                print(' ',end='')\n",
    "            print('*')\n",
    "        else:\n",
    "            print('*',end='')\n",
    "            for j in range(i):\n",
    "                print(' ',end='')\n",
    "            print('*',end='')\n",
    "            for j in range(n-2*i):\n",
    "                print(' ',end='')\n",
    "            print('*',end='')\n",
    "            for j in range(i):\n",
    "                print(' ',end='')\n",
    "            print('*')\n",
    "num = int(input())\n",
    "print_M(num)"
   ]
  },
  {
   "cell_type": "code",
   "execution_count": 33,
   "metadata": {
    "collapsed": false
   },
   "outputs": [
    {
     "name": "stdout",
     "output_type": "stream",
     "text": [
      "*         *\n",
      "* *     * *\n",
      "*  *   *  *\n",
      "*    *    *\n",
      "*         *\n",
      "*         *\n",
      "*         *\n"
     ]
    }
   ],
   "source": [
    "print_M(7)"
   ]
  },
  {
   "cell_type": "code",
   "execution_count": 40,
   "metadata": {
    "collapsed": false
   },
   "outputs": [
    {
     "name": "stdout",
     "output_type": "stream",
     "text": [
      "*               *\n",
      "* *           * *\n",
      "*  *         *  *\n",
      "*   *       *   *\n",
      "*    *     *    *\n",
      "*     *   *     *\n",
      "*       *       *\n",
      "*               *\n",
      "*               *\n",
      "*               *\n",
      "*               *\n",
      "*               *\n",
      "*               *\n"
     ]
    }
   ],
   "source": [
    "print_M(12)"
   ]
  },
  {
   "cell_type": "code",
   "execution_count": 35,
   "metadata": {
    "collapsed": false
   },
   "outputs": [
    {
     "name": "stdout",
     "output_type": "stream",
     "text": [
      "*                     *\n",
      "* *                 * *\n",
      "*  *               *  *\n",
      "*   *             *   *\n",
      "*    *           *    *\n",
      "*     *         *     *\n",
      "*      *       *      *\n",
      "*       *     *       *\n",
      "*        *   *        *\n",
      "*          *          *\n",
      "*                     *\n",
      "*                     *\n",
      "*                     *\n",
      "*                     *\n",
      "*                     *\n",
      "*                     *\n",
      "*                     *\n",
      "*                     *\n",
      "*                     *\n"
     ]
    }
   ],
   "source": [
    "print_M(19)"
   ]
  },
  {
   "cell_type": "code",
   "execution_count": 37,
   "metadata": {
    "collapsed": false
   },
   "outputs": [
    {
     "name": "stdout",
     "output_type": "stream",
     "text": [
      "*                               *\n",
      "* *                           * *\n",
      "*  *                         *  *\n",
      "*   *                       *   *\n",
      "*    *                     *    *\n",
      "*     *                   *     *\n",
      "*      *                 *      *\n",
      "*       *               *       *\n",
      "*        *             *        *\n",
      "*         *           *         *\n",
      "*          *         *          *\n",
      "*           *       *           *\n",
      "*            *     *            *\n",
      "*             *   *             *\n",
      "*               *               *\n",
      "*                               *\n",
      "*                               *\n",
      "*                               *\n",
      "*                               *\n",
      "*                               *\n",
      "*                               *\n",
      "*                               *\n",
      "*                               *\n",
      "*                               *\n",
      "*                               *\n",
      "*                               *\n",
      "*                               *\n",
      "*                               *\n",
      "*                               *\n"
     ]
    }
   ],
   "source": [
    "print_M(28)"
   ]
  },
  {
   "cell_type": "code",
   "execution_count": 38,
   "metadata": {
    "collapsed": false
   },
   "outputs": [
    {
     "name": "stdout",
     "output_type": "stream",
     "text": [
      "*                                     *\n",
      "* *                                 * *\n",
      "*  *                               *  *\n",
      "*   *                             *   *\n",
      "*    *                           *    *\n",
      "*     *                         *     *\n",
      "*      *                       *      *\n",
      "*       *                     *       *\n",
      "*        *                   *        *\n",
      "*         *                 *         *\n",
      "*          *               *          *\n",
      "*           *             *           *\n",
      "*            *           *            *\n",
      "*             *         *             *\n",
      "*              *       *              *\n",
      "*               *     *               *\n",
      "*                *   *                *\n",
      "*                  *                  *\n",
      "*                                     *\n",
      "*                                     *\n",
      "*                                     *\n",
      "*                                     *\n",
      "*                                     *\n",
      "*                                     *\n",
      "*                                     *\n",
      "*                                     *\n",
      "*                                     *\n",
      "*                                     *\n",
      "*                                     *\n",
      "*                                     *\n",
      "*                                     *\n",
      "*                                     *\n",
      "*                                     *\n",
      "*                                     *\n",
      "*                                     *\n"
     ]
    }
   ],
   "source": [
    "print_M(35)"
   ]
  }
 ],
 "metadata": {
  "kernelspec": {
   "display_name": "Python 3",
   "language": "python",
   "name": "python3"
  },
  "language_info": {
   "codemirror_mode": {
    "name": "ipython",
    "version": 3
   },
   "file_extension": ".py",
   "mimetype": "text/x-python",
   "name": "python",
   "nbconvert_exporter": "python",
   "pygments_lexer": "ipython3",
   "version": "3.5.2"
  }
 },
 "nbformat": 4,
 "nbformat_minor": 2
}
